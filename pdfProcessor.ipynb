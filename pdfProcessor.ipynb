{
 "cells": [
  {
   "cell_type": "code",
   "execution_count": 1,
   "metadata": {},
   "outputs": [
    {
     "name": "stdout",
     "output_type": "stream",
     "text": [
      "Hello World\n"
     ]
    }
   ],
   "source": [
    "print(\"Hello World\")"
   ]
  },
  {
   "cell_type": "code",
   "execution_count": 1,
   "metadata": {},
   "outputs": [
    {
     "name": "stdout",
     "output_type": "stream",
     "text": [
      "Collecting pymupdf\n",
      "  Downloading pymupdf-1.25.4-cp39-abi3-win_amd64.whl.metadata (3.4 kB)\n",
      "Downloading pymupdf-1.25.4-cp39-abi3-win_amd64.whl (16.6 MB)\n",
      "   ---------------------------------------- 0.0/16.6 MB ? eta -:--:--\n",
      "   ---------------------------------------- 0.0/16.6 MB ? eta -:--:--\n",
      "   ---------------------------------------- 0.0/16.6 MB ? eta -:--:--\n",
      "   - -------------------------------------- 0.5/16.6 MB 1.9 MB/s eta 0:00:09\n",
      "   --- ------------------------------------ 1.3/16.6 MB 2.9 MB/s eta 0:00:06\n",
      "   ------ --------------------------------- 2.6/16.6 MB 4.2 MB/s eta 0:00:04\n",
      "   ---------- ----------------------------- 4.2/16.6 MB 5.0 MB/s eta 0:00:03\n",
      "   ------------- -------------------------- 5.8/16.6 MB 5.6 MB/s eta 0:00:02\n",
      "   ----------------- ---------------------- 7.3/16.6 MB 6.0 MB/s eta 0:00:02\n",
      "   ---------------------- ----------------- 9.2/16.6 MB 6.3 MB/s eta 0:00:02\n",
      "   -------------------------- ------------- 11.0/16.6 MB 6.6 MB/s eta 0:00:01\n",
      "   ------------------------------- -------- 13.1/16.6 MB 6.9 MB/s eta 0:00:01\n",
      "   --------------------------------- ------ 13.9/16.6 MB 6.9 MB/s eta 0:00:01\n",
      "   ---------------------------------- ----- 14.2/16.6 MB 6.6 MB/s eta 0:00:01\n",
      "   ----------------------------------- ---- 14.7/16.6 MB 5.8 MB/s eta 0:00:01\n",
      "   -------------------------------------- - 16.0/16.6 MB 5.9 MB/s eta 0:00:01\n",
      "   ---------------------------------------- 16.6/16.6 MB 5.7 MB/s eta 0:00:00\n",
      "Installing collected packages: pymupdf\n",
      "Successfully installed pymupdf-1.25.4\n"
     ]
    }
   ],
   "source": [
    "!pip install pymupdf"
   ]
  },
  {
   "cell_type": "code",
   "execution_count": 2,
   "metadata": {},
   "outputs": [],
   "source": [
    "from langchain.llms import OpenAI"
   ]
  },
  {
   "cell_type": "code",
   "execution_count": null,
   "metadata": {},
   "outputs": [],
   "source": []
  }
 ],
 "metadata": {
  "kernelspec": {
   "display_name": "base",
   "language": "python",
   "name": "python3"
  },
  "language_info": {
   "codemirror_mode": {
    "name": "ipython",
    "version": 3
   },
   "file_extension": ".py",
   "mimetype": "text/x-python",
   "name": "python",
   "nbconvert_exporter": "python",
   "pygments_lexer": "ipython3",
   "version": "3.12.7 | packaged by Anaconda, Inc. | (main, Oct  4 2024, 13:17:27) [MSC v.1929 64 bit (AMD64)]"
  },
  "orig_nbformat": 4,
  "vscode": {
   "interpreter": {
    "hash": "74a89fa266cabb8585bd7882bb051841e67c609f03fe999cbf036c5b89abc5de"
   }
  }
 },
 "nbformat": 4,
 "nbformat_minor": 2
}
